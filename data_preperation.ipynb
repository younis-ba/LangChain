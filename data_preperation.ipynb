{
  "cells": [
    {
      "cell_type": "markdown",
      "source": [
        "## Install packages"
      ],
      "metadata": {
        "id": "WTSFFVFfpyYf"
      }
    },
    {
      "cell_type": "code",
      "execution_count": null,
      "metadata": {
        "colab": {
          "base_uri": "https://localhost:8080/"
        },
        "id": "c91qurecqk07",
        "outputId": "3aaa1651-72b0-41ce-b8e6-2c399672a994"
      },
      "outputs": [
        {
          "output_type": "stream",
          "name": "stdout",
          "text": [
            "Looking in indexes: https://pypi.org/simple, https://us-python.pkg.dev/colab-wheels/public/simple/\n",
            "Collecting langchain\n",
            "  Downloading langchain-0.0.198-py3-none-any.whl (1.0 MB)\n",
            "\u001b[2K     \u001b[90m━━━━━━━━━━━━━━━━━━━━━━━━━━━━━━━━━━━━━━━━\u001b[0m \u001b[32m1.0/1.0 MB\u001b[0m \u001b[31m16.4 MB/s\u001b[0m eta \u001b[36m0:00:00\u001b[0m\n",
            "\u001b[?25hCollecting openai\n",
            "  Downloading openai-0.27.8-py3-none-any.whl (73 kB)\n",
            "\u001b[2K     \u001b[90m━━━━━━━━━━━━━━━━━━━━━━━━━━━━━━━━━━━━━━━━\u001b[0m \u001b[32m73.6/73.6 kB\u001b[0m \u001b[31m10.5 MB/s\u001b[0m eta \u001b[36m0:00:00\u001b[0m\n",
            "\u001b[?25hRequirement already satisfied: PyYAML>=5.4.1 in /usr/local/lib/python3.10/dist-packages (from langchain) (6.0)\n",
            "Requirement already satisfied: SQLAlchemy<3,>=1.4 in /usr/local/lib/python3.10/dist-packages (from langchain) (2.0.10)\n",
            "Collecting aiohttp<4.0.0,>=3.8.3 (from langchain)\n",
            "  Downloading aiohttp-3.8.4-cp310-cp310-manylinux_2_17_x86_64.manylinux2014_x86_64.whl (1.0 MB)\n",
            "\u001b[2K     \u001b[90m━━━━━━━━━━━━━━━━━━━━━━━━━━━━━━━━━━━━━━━━\u001b[0m \u001b[32m1.0/1.0 MB\u001b[0m \u001b[31m69.0 MB/s\u001b[0m eta \u001b[36m0:00:00\u001b[0m\n",
            "\u001b[?25hCollecting async-timeout<5.0.0,>=4.0.0 (from langchain)\n",
            "  Downloading async_timeout-4.0.2-py3-none-any.whl (5.8 kB)\n",
            "Collecting dataclasses-json<0.6.0,>=0.5.7 (from langchain)\n",
            "  Downloading dataclasses_json-0.5.8-py3-none-any.whl (26 kB)\n",
            "Collecting langchainplus-sdk>=0.0.7 (from langchain)\n",
            "  Downloading langchainplus_sdk-0.0.9-py3-none-any.whl (21 kB)\n",
            "Requirement already satisfied: numexpr<3.0.0,>=2.8.4 in /usr/local/lib/python3.10/dist-packages (from langchain) (2.8.4)\n",
            "Requirement already satisfied: numpy<2,>=1 in /usr/local/lib/python3.10/dist-packages (from langchain) (1.22.4)\n",
            "Collecting openapi-schema-pydantic<2.0,>=1.2 (from langchain)\n",
            "  Downloading openapi_schema_pydantic-1.2.4-py3-none-any.whl (90 kB)\n",
            "\u001b[2K     \u001b[90m━━━━━━━━━━━━━━━━━━━━━━━━━━━━━━━━━━━━━━━━\u001b[0m \u001b[32m90.0/90.0 kB\u001b[0m \u001b[31m13.5 MB/s\u001b[0m eta \u001b[36m0:00:00\u001b[0m\n",
            "\u001b[?25hRequirement already satisfied: pydantic<2,>=1 in /usr/local/lib/python3.10/dist-packages (from langchain) (1.10.7)\n",
            "Requirement already satisfied: requests<3,>=2 in /usr/local/lib/python3.10/dist-packages (from langchain) (2.27.1)\n",
            "Requirement already satisfied: tenacity<9.0.0,>=8.1.0 in /usr/local/lib/python3.10/dist-packages (from langchain) (8.2.2)\n",
            "Requirement already satisfied: tqdm in /usr/local/lib/python3.10/dist-packages (from openai) (4.65.0)\n",
            "Requirement already satisfied: attrs>=17.3.0 in /usr/local/lib/python3.10/dist-packages (from aiohttp<4.0.0,>=3.8.3->langchain) (23.1.0)\n",
            "Requirement already satisfied: charset-normalizer<4.0,>=2.0 in /usr/local/lib/python3.10/dist-packages (from aiohttp<4.0.0,>=3.8.3->langchain) (2.0.12)\n",
            "Collecting multidict<7.0,>=4.5 (from aiohttp<4.0.0,>=3.8.3->langchain)\n",
            "  Downloading multidict-6.0.4-cp310-cp310-manylinux_2_17_x86_64.manylinux2014_x86_64.whl (114 kB)\n",
            "\u001b[2K     \u001b[90m━━━━━━━━━━━━━━━━━━━━━━━━━━━━━━━━━━━━━━\u001b[0m \u001b[32m114.5/114.5 kB\u001b[0m \u001b[31m14.6 MB/s\u001b[0m eta \u001b[36m0:00:00\u001b[0m\n",
            "\u001b[?25hCollecting yarl<2.0,>=1.0 (from aiohttp<4.0.0,>=3.8.3->langchain)\n",
            "  Downloading yarl-1.9.2-cp310-cp310-manylinux_2_17_x86_64.manylinux2014_x86_64.whl (268 kB)\n",
            "\u001b[2K     \u001b[90m━━━━━━━━━━━━━━━━━━━━━━━━━━━━━━━━━━━━━━\u001b[0m \u001b[32m268.8/268.8 kB\u001b[0m \u001b[31m31.9 MB/s\u001b[0m eta \u001b[36m0:00:00\u001b[0m\n",
            "\u001b[?25hCollecting frozenlist>=1.1.1 (from aiohttp<4.0.0,>=3.8.3->langchain)\n",
            "  Downloading frozenlist-1.3.3-cp310-cp310-manylinux_2_5_x86_64.manylinux1_x86_64.manylinux_2_17_x86_64.manylinux2014_x86_64.whl (149 kB)\n",
            "\u001b[2K     \u001b[90m━━━━━━━━━━━━━━━━━━━━━━━━━━━━━━━━━━━━━━\u001b[0m \u001b[32m149.6/149.6 kB\u001b[0m \u001b[31m12.5 MB/s\u001b[0m eta \u001b[36m0:00:00\u001b[0m\n",
            "\u001b[?25hCollecting aiosignal>=1.1.2 (from aiohttp<4.0.0,>=3.8.3->langchain)\n",
            "  Downloading aiosignal-1.3.1-py3-none-any.whl (7.6 kB)\n",
            "Collecting marshmallow<4.0.0,>=3.3.0 (from dataclasses-json<0.6.0,>=0.5.7->langchain)\n",
            "  Downloading marshmallow-3.19.0-py3-none-any.whl (49 kB)\n",
            "\u001b[2K     \u001b[90m━━━━━━━━━━━━━━━━━━━━━━━━━━━━━━━━━━━━━━━━\u001b[0m \u001b[32m49.1/49.1 kB\u001b[0m \u001b[31m6.6 MB/s\u001b[0m eta \u001b[36m0:00:00\u001b[0m\n",
            "\u001b[?25hCollecting marshmallow-enum<2.0.0,>=1.5.1 (from dataclasses-json<0.6.0,>=0.5.7->langchain)\n",
            "  Downloading marshmallow_enum-1.5.1-py2.py3-none-any.whl (4.2 kB)\n",
            "Collecting typing-inspect>=0.4.0 (from dataclasses-json<0.6.0,>=0.5.7->langchain)\n",
            "  Downloading typing_inspect-0.9.0-py3-none-any.whl (8.8 kB)\n",
            "Requirement already satisfied: typing-extensions>=4.2.0 in /usr/local/lib/python3.10/dist-packages (from pydantic<2,>=1->langchain) (4.5.0)\n",
            "Requirement already satisfied: urllib3<1.27,>=1.21.1 in /usr/local/lib/python3.10/dist-packages (from requests<3,>=2->langchain) (1.26.15)\n",
            "Requirement already satisfied: certifi>=2017.4.17 in /usr/local/lib/python3.10/dist-packages (from requests<3,>=2->langchain) (2022.12.7)\n",
            "Requirement already satisfied: idna<4,>=2.5 in /usr/local/lib/python3.10/dist-packages (from requests<3,>=2->langchain) (3.4)\n",
            "Requirement already satisfied: greenlet!=0.4.17 in /usr/local/lib/python3.10/dist-packages (from SQLAlchemy<3,>=1.4->langchain) (2.0.2)\n",
            "Requirement already satisfied: packaging>=17.0 in /usr/local/lib/python3.10/dist-packages (from marshmallow<4.0.0,>=3.3.0->dataclasses-json<0.6.0,>=0.5.7->langchain) (23.1)\n",
            "Collecting mypy-extensions>=0.3.0 (from typing-inspect>=0.4.0->dataclasses-json<0.6.0,>=0.5.7->langchain)\n",
            "  Downloading mypy_extensions-1.0.0-py3-none-any.whl (4.7 kB)\n",
            "Installing collected packages: mypy-extensions, multidict, marshmallow, frozenlist, async-timeout, yarl, typing-inspect, openapi-schema-pydantic, marshmallow-enum, langchainplus-sdk, aiosignal, dataclasses-json, aiohttp, openai, langchain\n",
            "Successfully installed aiohttp-3.8.4 aiosignal-1.3.1 async-timeout-4.0.2 dataclasses-json-0.5.8 frozenlist-1.3.3 langchain-0.0.198 langchainplus-sdk-0.0.9 marshmallow-3.19.0 marshmallow-enum-1.5.1 multidict-6.0.4 mypy-extensions-1.0.0 openai-0.27.8 openapi-schema-pydantic-1.2.4 typing-inspect-0.9.0 yarl-1.9.2\n"
          ]
        }
      ],
      "source": [
        "## install langchain\n",
        "!pip install langchain openai\n"
      ]
    },
    {
      "cell_type": "code",
      "execution_count": null,
      "metadata": {
        "colab": {
          "base_uri": "https://localhost:8080/"
        },
        "id": "gd-10f9IeqYv",
        "outputId": "38016fb2-afa4-4438-bff4-d3d55228161a"
      },
      "outputs": [
        {
          "output_type": "stream",
          "name": "stdout",
          "text": [
            "GPU is available and initialized.\n"
          ]
        }
      ],
      "source": [
        "import torch\n",
        "\n",
        "if torch.cuda.is_available():\n",
        "    print(\"GPU is available and initialized.\")\n",
        "else:\n",
        "    print(\"GPU is not available or not properly initialized.\")\n"
      ]
    },
    {
      "cell_type": "code",
      "execution_count": null,
      "metadata": {
        "id": "FB8sRzpVlAzj"
      },
      "outputs": [],
      "source": [
        "\n",
        "from langchain.prompts import PromptTemplate\n",
        "from langchain.chains.qa_with_sources import load_qa_with_sources_chain\n",
        "from langchain.llms import OpenAI\n",
        "from langchain.docstore.document import Document\n"
      ]
    },
    {
      "cell_type": "markdown",
      "source": [
        "## generate content chain"
      ],
      "metadata": {
        "id": "Z3gbYu8IqEoC"
      }
    },
    {
      "cell_type": "code",
      "execution_count": null,
      "metadata": {
        "id": "dxxaj6-BwNVQ"
      },
      "outputs": [],
      "source": [
        "from langchain.prompts import PromptTemplate\n",
        "from langchain.chains.question_answering import load_qa_chain\n",
        "from langchain.llms import OpenAI\n",
        "from langchain.prompts import PromptTemplate\n"
      ]
    },
    {
      "cell_type": "code",
      "execution_count": null,
      "metadata": {
        "id": "qIvgCQtDwYDt"
      },
      "outputs": [],
      "source": [
        "# # Generate the context using the question and answer\n",
        "# context = f\"Question: {question}\\nAnswer: {answer}\"\n",
        "\n",
        "# Define the prompt template\n",
        "prompt_template = \"\"\"\n",
        "Use the following pieces of context, question, generate content to fintune bert model dont' be creative please ensure to include the context\n",
        "\n",
        "Example :\n",
        "\n",
        "question: \"What are the advantages and disadvantages of PCA and Autoencoder for feature extraction?\"\n",
        "\n",
        "context: \"PCA is computationally efficient and easy to interpret, but it may not capture complex non-linear patterns in the data. On the other hand, an Autoencoder can capture non-linear relationships but may require more computational resources for training.\"\n",
        "\n",
        "content: \"Feature extraction is an essential step in unsupervised learning. There are different methods available for extracting features, such as PCA (Principal Component Analysis) and Autoencoder. PCA is a linear dimensionality reduction technique that aims to find the orthogonal axes with maximum variance in the data. On the other hand, an Autoencoder is a neural network that learns to encode and decode data, capturing non-linear relationships in the process. Both methods have their advantages and disadvantages. PCA is computationally efficient and easy to interpret but may not capture complex non-linear patterns in the data. Autoencoders, on the other hand, can capture non-linear relationships but may require more computational resources for training. So, the choice between PCA and Autoencoder depends on the specific requirements of the task at hand.\"\n",
        "\n",
        "\n",
        "{context}\n",
        "Question: {question}\n",
        "\n",
        "\n",
        "content:\"\"\"\n",
        "\n",
        "\n",
        "PROMPT = PromptTemplate(\n",
        "    template=prompt_template, input_variables=[\"context\",  \"question\"]\n",
        ")"
      ]
    },
    {
      "cell_type": "code",
      "execution_count": null,
      "metadata": {
        "id": "lyn0tlfDwd3B"
      },
      "outputs": [],
      "source": [
        "# Load the question-answering chain\n",
        "generate_chain = load_qa_chain(\n",
        "    OpenAI(temperature=0.7,model=\"text-davinci-003\", openai_api_key=openai_api_key ,  max_tokens=2000),\n",
        "    chain_type=\"stuff\",\n",
        "    output_key=\"content\",\n",
        "    prompt=PROMPT\n",
        ")\n",
        "\n",
        "# Define the question and answer\n",
        "question = \"Which probability distribution is commonly used for modelling a multi-class classification task?\"\n",
        "answer = \"It is common to model a multi-class classification task with a model that predicts a Multinoulli probability distribution.\"\n",
        "# Convert the answer into a Document object\n",
        "answer_doc = Document(page_content=answer, text=answer)\n",
        "\n",
        "# Provide the input data (question, answer, and initial context)\n",
        "input_data = {\n",
        "    \"question\": question,\n",
        "    \"input_documents\": [answer_doc],\n",
        "    \"answer\": \"\"\n",
        "}\n"
      ]
    },
    {
      "cell_type": "code",
      "execution_count": null,
      "metadata": {
        "colab": {
          "base_uri": "https://localhost:8080/"
        },
        "id": "Icae_3auzE_8",
        "outputId": "40d9cc8c-22ad-4553-c730-6e49e5c2aced"
      },
      "outputs": [
        {
          "data": {
            "text/plain": [
              "{'content': ' A multi-class classification task involves predicting a categorical outcome with multiple possible classes. To model such a task, a probability distribution is commonly used to represent the likelihood of each class. The most commonly used probability distribution for this purpose is the Multinoulli distribution. This distribution assigns a probability to each class and can be used to model the probability of each class. The Multinoulli distribution is suitable for modelling multi-class classification tasks as it can capture the probability of each class and the relationships between them.'}"
            ]
          },
          "execution_count": 8,
          "metadata": {},
          "output_type": "execute_result"
        }
      ],
      "source": [
        "generate_chain({\"input_documents\": [answer_doc], \"question\": question}, return_only_outputs=True)\n"
      ]
    },
    {
      "cell_type": "markdown",
      "source": [
        "## validate answer chain"
      ],
      "metadata": {
        "id": "fjfEYvIrqM_Z"
      }
    },
    {
      "cell_type": "code",
      "execution_count": null,
      "metadata": {
        "id": "P8GqIzMW4zc-"
      },
      "outputs": [],
      "source": [
        "\n",
        "# Define the prompt template\n",
        "prompt_template =  \"\"\"\n",
        "\n",
        "Use the following pieces of context to answer the question at the end. Please extract the answer exactly as it appears in the context without any modifications or addition and make it valid to fintune bert model .\n",
        "\n",
        "Example :\n",
        "'context': 'Beyoncé Giselle Knowles-Carter  (born September 4, 1981) is an American singer, songwriter, record producer and actress. Born and raised in Houston, Texas, she performed in various singing and dancing competitions as a child, and rose to fame in the late 1990s as lead singer of R&B girl-group Destiny\\'s Child. Managed by her father, Mathew Knowles, the group became one of the world\\'s best-selling girl groups of all time. Their hiatus saw the release of Beyoncé\\'s debut album, Dangerously in Love (2003), which established her as a solo artist worldwide, earned five Grammy Awards and featured the Billboard Hot 100 number-one singles \"Crazy in Love\" and \"Baby Boy\".',\n",
        "'question': 'When did Beyonce start becoming popular?',\n",
        "'answers': 'text': ['in the late 1990s'],\n",
        "'answer_start': [269]\n",
        "\n",
        "\n",
        "Context:\n",
        "{context}\n",
        "\n",
        "Question: {question}\n",
        "\n",
        "Answer:\n",
        "\"\"\"\n",
        "\n",
        "# Your code to extract the start position of the answer goes here\n",
        "query = \"what is genetic programming\"\n",
        "docs = \"Genetic Programming (GP) is a type of evolutionary algorithm used in Machine Learning. It applies evolutionary principles, such as selection, crossover, and mutation, to automatically generate computer programs that have the desired characteristics. GP involves creating a population of computer programs, which are then tested and evaluated based on their ability to solve a given problem. The best-performing programs are then selected and used to create a new population. This process is repeated until the desired objective is met. Genetic Programming has been used in a range of areas, such as image recognition, natural language processing, and optimization.\"\n",
        "docs = Document(page_content=docs, text=docs)\n",
        "\n",
        "PROMPT = PromptTemplate(\n",
        "    template=prompt_template, input_variables=[\"context\", \"question\"]\n",
        ")\n",
        "validate_chain = load_qa_chain(\n",
        "    OpenAI(temperature=0.5,model=\"text-davinci-003\", openai_api_key=openai_api_key ,  max_tokens=2000),\n",
        "    chain_type=\"stuff\",\n",
        "    output_key=\"review\",\n",
        "    prompt=PROMPT,\n",
        ")\n",
        "\n"
      ]
    },
    {
      "cell_type": "code",
      "execution_count": null,
      "metadata": {
        "colab": {
          "base_uri": "https://localhost:8080/"
        },
        "id": "sRBrXf2R6NJ7",
        "outputId": "547033f6-e550-4ae2-e75d-ffe910dddc68"
      },
      "outputs": [
        {
          "data": {
            "text/plain": [
              "{'input_documents': [Document(lc_kwargs={'page_content': 'Genetic Programming (GP) is a type of evolutionary algorithm used in Machine Learning. It applies evolutionary principles, such as selection, crossover, and mutation, to automatically generate computer programs that have the desired characteristics. GP involves creating a population of computer programs, which are then tested and evaluated based on their ability to solve a given problem. The best-performing programs are then selected and used to create a new population. This process is repeated until the desired objective is met. Genetic Programming has been used in a range of areas, such as image recognition, natural language processing, and optimization.', 'text': 'Genetic Programming (GP) is a type of evolutionary algorithm used in Machine Learning. It applies evolutionary principles, such as selection, crossover, and mutation, to automatically generate computer programs that have the desired characteristics. GP involves creating a population of computer programs, which are then tested and evaluated based on their ability to solve a given problem. The best-performing programs are then selected and used to create a new population. This process is repeated until the desired objective is met. Genetic Programming has been used in a range of areas, such as image recognition, natural language processing, and optimization.'}, page_content='Genetic Programming (GP) is a type of evolutionary algorithm used in Machine Learning. It applies evolutionary principles, such as selection, crossover, and mutation, to automatically generate computer programs that have the desired characteristics. GP involves creating a population of computer programs, which are then tested and evaluated based on their ability to solve a given problem. The best-performing programs are then selected and used to create a new population. This process is repeated until the desired objective is met. Genetic Programming has been used in a range of areas, such as image recognition, natural language processing, and optimization.', metadata={})],\n",
              " 'question': 'what is genetic programming',\n",
              " 'review': \"'text': ['Genetic Programming (GP) is a type of evolutionary algorithm used in Machine Learning'], \\n'answer_start': [0]\"}"
            ]
          },
          "execution_count": 10,
          "metadata": {},
          "output_type": "execute_result"
        }
      ],
      "source": [
        "validate_chain({\"input_documents\": [docs], \"question\": query})"
      ]
    },
    {
      "cell_type": "markdown",
      "metadata": {
        "id": "6a_F4STmA2BL"
      },
      "source": [
        "## Sequential Chain"
      ]
    },
    {
      "cell_type": "code",
      "execution_count": null,
      "metadata": {
        "id": "Hno8TxhMBXbH"
      },
      "outputs": [],
      "source": [
        "# This is the overall chain where we run these two chains in sequence.\n",
        "from langchain.chains import SequentialChain"
      ]
    },
    {
      "cell_type": "code",
      "execution_count": null,
      "metadata": {
        "id": "uwkMz3A_Aud1"
      },
      "outputs": [],
      "source": [
        "\n",
        "overall_chain = SequentialChain(\n",
        "    chains=[generat_chaine, validat_chain],\n",
        "    input_variables=[\"input_documents\", \"question\"],\n",
        "    # Here we return multiple variables\n",
        "    output_variables=[\"content\", \"review\"],\n",
        "    verbose=True)"
      ]
    },
    {
      "cell_type": "code",
      "execution_count": null,
      "metadata": {
        "id": "MzAsnSHvCoKa"
      },
      "outputs": [],
      "source": [
        "# Define the question and answer\n",
        "question = \"what is genetic programming\"\n",
        "answer = \"Genetic programming is one of the two techniques used in machine learning. The model is based on the testing and selecting the best choice among a set of results.\"\n",
        "# Convert the answer into a Document object\n",
        "answer_doc = Document(page_content=answer, text=answer)"
      ]
    },
    {
      "cell_type": "code",
      "execution_count": null,
      "metadata": {
        "colab": {
          "base_uri": "https://localhost:8080/"
        },
        "id": "fgYcBdSUCDXZ",
        "outputId": "e06b398c-f204-4e99-be98-9ef327cef558"
      },
      "outputs": [
        {
          "name": "stderr",
          "output_type": "stream",
          "text": [
            "WARNING:langchain.callbacks.manager:Error in on_chain_start callback: 'name'\n"
          ]
        },
        {
          "name": "stdout",
          "output_type": "stream",
          "text": [
            "\n",
            "\u001b[1m> Finished chain.\u001b[0m\n"
          ]
        }
      ],
      "source": [
        "result = overall_chain({\"input_documents\":[answer_doc], \"question\": question})\n"
      ]
    },
    {
      "cell_type": "code",
      "execution_count": null,
      "metadata": {
        "colab": {
          "base_uri": "https://localhost:8080/"
        },
        "id": "PlktKPQDHQLm",
        "outputId": "444fbabc-f0cf-4158-ab17-f57667a432df"
      },
      "outputs": [
        {
          "data": {
            "text/plain": [
              "{'input_documents': [Document(lc_kwargs={'page_content': 'Genetic programming is one of the two techniques used in machine learning. The model is based on the testing and selecting the best choice among a set of results.', 'text': 'Genetic programming is one of the two techniques used in machine learning. The model is based on the testing and selecting the best choice among a set of results.'}, page_content='Genetic programming is one of the two techniques used in machine learning. The model is based on the testing and selecting the best choice among a set of results.', metadata={})],\n",
              " 'question': 'what is genetic programming',\n",
              " 'content': ' Genetic Programming is a type of machine learning technique that employs genetic algorithms to optimize a problem by evolving a set of possible solutions. It works by creating a population of possible solutions, called individuals, and then testing them through a fitness function. The individuals with the highest fitness scores are then selected to form a new population and the process is repeated until a solution that meets the desired criteria is found. Genetic Programming is an effective tool for solving complex problems and can be used to optimize a variety of tasks, including feature selection, feature extraction, and classification.',\n",
              " 'review': \"'text': ['Genetic programming is one of the two techniques used in machine learning'], \\n'answer_start': [0]\"}"
            ]
          },
          "execution_count": 36,
          "metadata": {},
          "output_type": "execute_result"
        }
      ],
      "source": [
        "result"
      ]
    },
    {
      "cell_type": "code",
      "execution_count": null,
      "metadata": {
        "colab": {
          "base_uri": "https://localhost:8080/",
          "height": 105
        },
        "id": "IxXuE8pbG5v7",
        "outputId": "57a75ea8-1c09-4adf-e362-c9cdba22375a"
      },
      "outputs": [
        {
          "data": {
            "application/vnd.google.colaboratory.intrinsic+json": {
              "type": "string"
            },
            "text/plain": [
              "' The most commonly used probability distribution for modelling a multi-class classification task is the Multinoulli distribution. This distribution is used to model the probability of a set of mutually exclusive outcomes, i.e. the probability of each class in a multi-class classification task. The Multinoulli distribution is a generalization of the Bernoulli distribution to more than two outcomes, and is easy to interpret and computationally efficient.'"
            ]
          },
          "execution_count": 116,
          "metadata": {},
          "output_type": "execute_result"
        }
      ],
      "source": [
        "result[\"content\"]"
      ]
    },
    {
      "cell_type": "markdown",
      "metadata": {
        "id": "ahGt9Hs4-7pT"
      },
      "source": [
        "## chaine pipline"
      ]
    },
    {
      "cell_type": "code",
      "execution_count": null,
      "metadata": {
        "id": "2wgDKcD0-9w9"
      },
      "outputs": [],
      "source": [
        "def pipeline_chain(question, answer):\n",
        "    \"\"\"\n",
        "    Runs a pipeline of operations to generate content and validate the answer.\n",
        "\n",
        "    Args:\n",
        "        question (str): The question.\n",
        "        answer (str): The answer.\n",
        "\n",
        "    Returns:\n",
        "        dict: A dictionary containing the question, generated content, and answer review.\n",
        "    \"\"\"\n",
        "    answer_doc = Document(page_content=answer, text=answer)\n",
        "    content = generate_chain({\"input_documents\": [answer_doc], \"question\": question}, return_only_outputs=True)\n",
        "    docs = Document(page_content=content[\"content\"], text=content[\"content\"])\n",
        "    result = validate_chain({\"input_documents\": [docs], \"question\": question})\n",
        "\n",
        "    return {\n",
        "        \"question\": question,\n",
        "        \"content\": content[\"content\"],\n",
        "        \"answer\": result[\"review\"]\n",
        "    }\n"
      ]
    },
    {
      "cell_type": "code",
      "execution_count": null,
      "metadata": {
        "colab": {
          "base_uri": "https://localhost:8080/"
        },
        "id": "hTceyLLd_VWc",
        "outputId": "197872c8-e0b4-4377-9608-f8f5812b6226"
      },
      "outputs": [
        {
          "data": {
            "text/plain": [
              "{'question': 'what is genetic programming',\n",
              " 'content': ' Genetic Programming is an evolutionary computation technique, which involves using genetic algorithms to evolve a set of rules or programs to solve a problem. By defining a set of parameters and then allowing a computer to optimize them, it creates a population of programs that it evaluates and then selects the best one for further optimization. This process of selection and optimization is repeated until an optimal solution is found. Genetic Programming is used in a variety of applications, from machine learning to natural language processing, and can be used to solve complex problems that are difficult to solve using traditional methods.',\n",
              " 'answer': \"'text': ['Genetic Programming is an evolutionary computation technique, which involves using genetic algorithms to evolve a set of rules or programs to solve a problem'], \\n'answer_start': [0]\"}"
            ]
          },
          "execution_count": 12,
          "metadata": {},
          "output_type": "execute_result"
        }
      ],
      "source": [
        "\n",
        "question = \"what is genetic programming\"\n",
        "answer = \"Genetic programming is one of the two techniques used in machine learning. The model is based on the testing and selecting the best choice among a set of results.\"\n",
        "\n",
        "pipeline_chain(question ,answer)"
      ]
    }
  ],
  "metadata": {
    "accelerator": "GPU",
    "colab": {
      "provenance": []
    },
    "kernelspec": {
      "display_name": "Python 3",
      "name": "python3"
    },
    "language_info": {
      "name": "python"
    }
  },
  "nbformat": 4,
  "nbformat_minor": 0
}